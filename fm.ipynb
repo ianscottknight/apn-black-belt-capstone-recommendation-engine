{
 "cells": [
  {
   "cell_type": "markdown",
   "metadata": {},
   "source": [
    "# Building a Movie Recommendation Engine with Factorization Machines"
   ]
  },
  {
   "cell_type": "markdown",
   "metadata": {},
   "source": [
    "## 1. Preprocessing"
   ]
  },
  {
   "cell_type": "markdown",
   "metadata": {},
   "source": [
    "### 1.1 Load data from parquet directories in saved to S3:\n",
    "\n",
    "##### After (1) converting the raw CSV files to Parquet using Glue and (2) performing some basic transformations with Athena, the new parquet files were saved to S3."
   ]
  },
  {
   "cell_type": "code",
   "execution_count": 1,
   "metadata": {},
   "outputs": [],
   "source": [
    "import boto3\n",
    "import numpy as np\n",
    "import pandas as pd\n",
    "import pyarrow.parquet as pq\n",
    "import s3fs\n",
    "\n",
    "\n",
    "BUCKET = 'movie-recommendation-engine-project'\n",
    "\n",
    "\n",
    "def get_dataframe_from_parquet_parquet_directory(parquet_directory):\n",
    "    s3_resource = boto3.resource('s3')\n",
    "    bucket = s3_resource.Bucket(BUCKET)\n",
    "    s3_file_system = s3fs.S3FileSystem()\n",
    "    df = pd.DataFrame()\n",
    "    for object_summary in bucket.objects.filter(Prefix=parquet_directory):\n",
    "        new_df = pq.read_table(f\"s3://{BUCKET}/{object_summary.key}\", filesystem=s3_file_system).to_pandas()\n",
    "        df = pd.concat([df, new_df])\n",
    "    return df\n",
    "        "
   ]
  },
  {
   "cell_type": "code",
   "execution_count": 2,
   "metadata": {},
   "outputs": [
    {
     "data": {
      "text/html": [
       "<div>\n",
       "<style scoped>\n",
       "    .dataframe tbody tr th:only-of-type {\n",
       "        vertical-align: middle;\n",
       "    }\n",
       "\n",
       "    .dataframe tbody tr th {\n",
       "        vertical-align: top;\n",
       "    }\n",
       "\n",
       "    .dataframe thead th {\n",
       "        text-align: right;\n",
       "    }\n",
       "</style>\n",
       "<table border=\"1\" class=\"dataframe\">\n",
       "  <thead>\n",
       "    <tr style=\"text-align: right;\">\n",
       "      <th></th>\n",
       "      <th>movieid</th>\n",
       "      <th>genreid</th>\n",
       "    </tr>\n",
       "  </thead>\n",
       "  <tbody>\n",
       "    <tr>\n",
       "      <th>0</th>\n",
       "      <td>4603</td>\n",
       "      <td>16</td>\n",
       "    </tr>\n",
       "    <tr>\n",
       "      <th>1</th>\n",
       "      <td>4603</td>\n",
       "      <td>6</td>\n",
       "    </tr>\n",
       "    <tr>\n",
       "      <th>2</th>\n",
       "      <td>4605</td>\n",
       "      <td>10</td>\n",
       "    </tr>\n",
       "    <tr>\n",
       "      <th>3</th>\n",
       "      <td>4605</td>\n",
       "      <td>6</td>\n",
       "    </tr>\n",
       "    <tr>\n",
       "      <th>4</th>\n",
       "      <td>4608</td>\n",
       "      <td>9</td>\n",
       "    </tr>\n",
       "    <tr>\n",
       "      <th>...</th>\n",
       "      <td>...</td>\n",
       "      <td>...</td>\n",
       "    </tr>\n",
       "    <tr>\n",
       "      <th>14559</th>\n",
       "      <td>178827</td>\n",
       "      <td>4</td>\n",
       "    </tr>\n",
       "    <tr>\n",
       "      <th>14560</th>\n",
       "      <td>178827</td>\n",
       "      <td>3</td>\n",
       "    </tr>\n",
       "    <tr>\n",
       "      <th>14561</th>\n",
       "      <td>178827</td>\n",
       "      <td>5</td>\n",
       "    </tr>\n",
       "    <tr>\n",
       "      <th>14562</th>\n",
       "      <td>178827</td>\n",
       "      <td>6</td>\n",
       "    </tr>\n",
       "    <tr>\n",
       "      <th>14563</th>\n",
       "      <td>179053</td>\n",
       "      <td>17</td>\n",
       "    </tr>\n",
       "  </tbody>\n",
       "</table>\n",
       "<p>22084 rows × 2 columns</p>\n",
       "</div>"
      ],
      "text/plain": [
       "       movieid  genreid\n",
       "0         4603       16\n",
       "1         4603        6\n",
       "2         4605       10\n",
       "3         4605        6\n",
       "4         4608        9\n",
       "...        ...      ...\n",
       "14559   178827        4\n",
       "14560   178827        3\n",
       "14561   178827        5\n",
       "14562   178827        6\n",
       "14563   179053       17\n",
       "\n",
       "[22084 rows x 2 columns]"
      ]
     },
     "execution_count": 2,
     "metadata": {},
     "output_type": "execute_result"
    }
   ],
   "source": [
    "df_movie_genre = get_dataframe_from_parquet_parquet_directory(\"data_transformations/movie_genre/\")\n",
    "df_movie_genre"
   ]
  },
  {
   "cell_type": "code",
   "execution_count": 3,
   "metadata": {},
   "outputs": [
    {
     "data": {
      "text/html": [
       "<div>\n",
       "<style scoped>\n",
       "    .dataframe tbody tr th:only-of-type {\n",
       "        vertical-align: middle;\n",
       "    }\n",
       "\n",
       "    .dataframe tbody tr th {\n",
       "        vertical-align: top;\n",
       "    }\n",
       "\n",
       "    .dataframe thead th {\n",
       "        text-align: right;\n",
       "    }\n",
       "</style>\n",
       "<table border=\"1\" class=\"dataframe\">\n",
       "  <thead>\n",
       "    <tr style=\"text-align: right;\">\n",
       "      <th></th>\n",
       "      <th>userid</th>\n",
       "      <th>movieid</th>\n",
       "      <th>rating</th>\n",
       "      <th>timestamp</th>\n",
       "    </tr>\n",
       "  </thead>\n",
       "  <tbody>\n",
       "    <tr>\n",
       "      <th>0</th>\n",
       "      <td>1</td>\n",
       "      <td>804</td>\n",
       "      <td>4.0</td>\n",
       "      <td>964980499</td>\n",
       "    </tr>\n",
       "    <tr>\n",
       "      <th>1</th>\n",
       "      <td>1</td>\n",
       "      <td>1210</td>\n",
       "      <td>5.0</td>\n",
       "      <td>964980499</td>\n",
       "    </tr>\n",
       "    <tr>\n",
       "      <th>2</th>\n",
       "      <td>1</td>\n",
       "      <td>2018</td>\n",
       "      <td>5.0</td>\n",
       "      <td>964980523</td>\n",
       "    </tr>\n",
       "    <tr>\n",
       "      <th>3</th>\n",
       "      <td>1</td>\n",
       "      <td>2826</td>\n",
       "      <td>4.0</td>\n",
       "      <td>964980523</td>\n",
       "    </tr>\n",
       "    <tr>\n",
       "      <th>4</th>\n",
       "      <td>1</td>\n",
       "      <td>2628</td>\n",
       "      <td>4.0</td>\n",
       "      <td>964980523</td>\n",
       "    </tr>\n",
       "    <tr>\n",
       "      <th>...</th>\n",
       "      <td>...</td>\n",
       "      <td>...</td>\n",
       "      <td>...</td>\n",
       "      <td>...</td>\n",
       "    </tr>\n",
       "    <tr>\n",
       "      <th>100831</th>\n",
       "      <td>610</td>\n",
       "      <td>101739</td>\n",
       "      <td>3.5</td>\n",
       "      <td>1495959269</td>\n",
       "    </tr>\n",
       "    <tr>\n",
       "      <th>100832</th>\n",
       "      <td>610</td>\n",
       "      <td>70</td>\n",
       "      <td>4.0</td>\n",
       "      <td>1495959282</td>\n",
       "    </tr>\n",
       "    <tr>\n",
       "      <th>100833</th>\n",
       "      <td>610</td>\n",
       "      <td>328</td>\n",
       "      <td>3.5</td>\n",
       "      <td>1495959299</td>\n",
       "    </tr>\n",
       "    <tr>\n",
       "      <th>100834</th>\n",
       "      <td>610</td>\n",
       "      <td>2459</td>\n",
       "      <td>3.5</td>\n",
       "      <td>1495959405</td>\n",
       "    </tr>\n",
       "    <tr>\n",
       "      <th>100835</th>\n",
       "      <td>610</td>\n",
       "      <td>3917</td>\n",
       "      <td>4.0</td>\n",
       "      <td>1495959411</td>\n",
       "    </tr>\n",
       "  </tbody>\n",
       "</table>\n",
       "<p>100836 rows × 4 columns</p>\n",
       "</div>"
      ],
      "text/plain": [
       "        userid  movieid  rating   timestamp\n",
       "0            1      804     4.0   964980499\n",
       "1            1     1210     5.0   964980499\n",
       "2            1     2018     5.0   964980523\n",
       "3            1     2826     4.0   964980523\n",
       "4            1     2628     4.0   964980523\n",
       "...        ...      ...     ...         ...\n",
       "100831     610   101739     3.5  1495959269\n",
       "100832     610       70     4.0  1495959282\n",
       "100833     610      328     3.5  1495959299\n",
       "100834     610     2459     3.5  1495959405\n",
       "100835     610     3917     4.0  1495959411\n",
       "\n",
       "[100836 rows x 4 columns]"
      ]
     },
     "execution_count": 3,
     "metadata": {},
     "output_type": "execute_result"
    }
   ],
   "source": [
    "df_user_rating = get_dataframe_from_parquet_parquet_directory(\"data_transformations/ratings_ordered/\")\n",
    "df_user_rating"
   ]
  },
  {
   "cell_type": "code",
   "execution_count": 4,
   "metadata": {},
   "outputs": [
    {
     "data": {
      "text/html": [
       "<div>\n",
       "<style scoped>\n",
       "    .dataframe tbody tr th:only-of-type {\n",
       "        vertical-align: middle;\n",
       "    }\n",
       "\n",
       "    .dataframe tbody tr th {\n",
       "        vertical-align: top;\n",
       "    }\n",
       "\n",
       "    .dataframe thead th {\n",
       "        text-align: right;\n",
       "    }\n",
       "</style>\n",
       "<table border=\"1\" class=\"dataframe\">\n",
       "  <thead>\n",
       "    <tr style=\"text-align: right;\">\n",
       "      <th></th>\n",
       "      <th>userid</th>\n",
       "      <th>movieid</th>\n",
       "      <th>tag</th>\n",
       "      <th>tagid</th>\n",
       "      <th>timestamp</th>\n",
       "    </tr>\n",
       "  </thead>\n",
       "  <tbody>\n",
       "    <tr>\n",
       "      <th>0</th>\n",
       "      <td>62</td>\n",
       "      <td>410</td>\n",
       "      <td>family</td>\n",
       "      <td>180</td>\n",
       "      <td>1525636708</td>\n",
       "    </tr>\n",
       "    <tr>\n",
       "      <th>1</th>\n",
       "      <td>62</td>\n",
       "      <td>2124</td>\n",
       "      <td>family</td>\n",
       "      <td>180</td>\n",
       "      <td>1525636855</td>\n",
       "    </tr>\n",
       "    <tr>\n",
       "      <th>2</th>\n",
       "      <td>62</td>\n",
       "      <td>2953</td>\n",
       "      <td>family</td>\n",
       "      <td>180</td>\n",
       "      <td>1525636883</td>\n",
       "    </tr>\n",
       "    <tr>\n",
       "      <th>3</th>\n",
       "      <td>62</td>\n",
       "      <td>27808</td>\n",
       "      <td>family</td>\n",
       "      <td>180</td>\n",
       "      <td>1525554919</td>\n",
       "    </tr>\n",
       "    <tr>\n",
       "      <th>4</th>\n",
       "      <td>62</td>\n",
       "      <td>34150</td>\n",
       "      <td>sexy female scientist</td>\n",
       "      <td>445</td>\n",
       "      <td>1525554144</td>\n",
       "    </tr>\n",
       "    <tr>\n",
       "      <th>...</th>\n",
       "      <td>...</td>\n",
       "      <td>...</td>\n",
       "      <td>...</td>\n",
       "      <td>...</td>\n",
       "      <td>...</td>\n",
       "    </tr>\n",
       "    <tr>\n",
       "      <th>2753</th>\n",
       "      <td>599</td>\n",
       "      <td>2959</td>\n",
       "      <td>complicated</td>\n",
       "      <td>120</td>\n",
       "      <td>1498456923</td>\n",
       "    </tr>\n",
       "    <tr>\n",
       "      <th>2754</th>\n",
       "      <td>599</td>\n",
       "      <td>2959</td>\n",
       "      <td>mindfuck</td>\n",
       "      <td>320</td>\n",
       "      <td>1498456912</td>\n",
       "    </tr>\n",
       "    <tr>\n",
       "      <th>2755</th>\n",
       "      <td>599</td>\n",
       "      <td>2959</td>\n",
       "      <td>quirky</td>\n",
       "      <td>396</td>\n",
       "      <td>1498456918</td>\n",
       "    </tr>\n",
       "    <tr>\n",
       "      <th>2756</th>\n",
       "      <td>599</td>\n",
       "      <td>2959</td>\n",
       "      <td>satirical</td>\n",
       "      <td>429</td>\n",
       "      <td>1498456920</td>\n",
       "    </tr>\n",
       "    <tr>\n",
       "      <th>2757</th>\n",
       "      <td>599</td>\n",
       "      <td>2959</td>\n",
       "      <td>social commentary</td>\n",
       "      <td>455</td>\n",
       "      <td>1498456894</td>\n",
       "    </tr>\n",
       "  </tbody>\n",
       "</table>\n",
       "<p>2758 rows × 5 columns</p>\n",
       "</div>"
      ],
      "text/plain": [
       "      userid  movieid                    tag  tagid   timestamp\n",
       "0         62      410                 family    180  1525636708\n",
       "1         62     2124                 family    180  1525636855\n",
       "2         62     2953                 family    180  1525636883\n",
       "3         62    27808                 family    180  1525554919\n",
       "4         62    34150  sexy female scientist    445  1525554144\n",
       "...      ...      ...                    ...    ...         ...\n",
       "2753     599     2959            complicated    120  1498456923\n",
       "2754     599     2959               mindfuck    320  1498456912\n",
       "2755     599     2959                 quirky    396  1498456918\n",
       "2756     599     2959              satirical    429  1498456920\n",
       "2757     599     2959      social commentary    455  1498456894\n",
       "\n",
       "[2758 rows x 5 columns]"
      ]
     },
     "execution_count": 4,
     "metadata": {},
     "output_type": "execute_result"
    }
   ],
   "source": [
    "df_movie_tag = get_dataframe_from_parquet_parquet_directory(\"data_transformations/tags_cleaned/\")\n",
    "df_movie_tag"
   ]
  },
  {
   "cell_type": "markdown",
   "metadata": {},
   "source": [
    "### 1.2 Leave out movie tags from features\n",
    "\n",
    "#### We decide to leave out tags since there are far fewer tagged movies than movies that aren't tagged."
   ]
  },
  {
   "cell_type": "code",
   "execution_count": 8,
   "metadata": {},
   "outputs": [
    {
     "data": {
      "text/plain": [
       "1343"
      ]
     },
     "execution_count": 8,
     "metadata": {},
     "output_type": "execute_result"
    }
   ],
   "source": [
    "len(df_movie_tag[\"movieid\"].unique())"
   ]
  },
  {
   "cell_type": "code",
   "execution_count": 9,
   "metadata": {},
   "outputs": [
    {
     "data": {
      "text/plain": [
       "9724"
      ]
     },
     "execution_count": 9,
     "metadata": {},
     "output_type": "execute_result"
    }
   ],
   "source": [
    "len(df_user_rating[\"movieid\"].unique())"
   ]
  },
  {
   "cell_type": "markdown",
   "metadata": {},
   "source": [
    "### 1.3 Normalize ratings and determine binary classification scheme\n"
   ]
  },
  {
   "cell_type": "markdown",
   "metadata": {},
   "source": [
    "#### We notice that the user_ratings are not uniformly distributed. In fact, the distribution is quite odd, apparently on account of the tendency for users to prefer rounding to whole numbers instead of assigning decimal ratings."
   ]
  },
  {
   "cell_type": "code",
   "execution_count": 10,
   "metadata": {},
   "outputs": [
    {
     "data": {
      "text/plain": [
       "<matplotlib.axes._subplots.AxesSubplot at 0x7efdba67db50>"
      ]
     },
     "execution_count": 10,
     "metadata": {},
     "output_type": "execute_result"
    },
    {
     "data": {
      "image/png": "[encoded data removed]",
      "text/plain": [
       "<Figure size 432x288 with 1 Axes>"
      ]
     },
     "metadata": {
      "needs_background": "light"
     },
     "output_type": "display_data"
    }
   ],
   "source": [
    "df_user_rating[\"rating\"].hist(bins=np.linspace(0, 5, 11))"
   ]
  },
  {
   "cell_type": "markdown",
   "metadata": {},
   "source": [
    "#### We normalize the ratings by subtracting the average rating and dividng by the standard deviation of ratings."
   ]
  },
  {
   "cell_type": "code",
   "execution_count": 11,
   "metadata": {},
   "outputs": [],
   "source": [
    "rating_mean = np.mean(df_user_rating[\"rating\"])\n",
    "rating_std = np.std(df_user_rating[\"rating\"])\n",
    "ratings_normalized = [(row[\"rating\"] - rating_mean) / rating_std for index, row in df_user_rating.iterrows()]\n",
    "df_user_rating[\"rating_normalized\"] = pd.Series(ratings_normalized)"
   ]
  },
  {
   "cell_type": "markdown",
   "metadata": {},
   "source": [
    "#### Now, dividing the data in binary classes of \"recommended\" or \"not recommended\" will be as simple as assigning positive (or zero) normalized ratings to the former and negative normalized ratings to the latter. "
   ]
  },
  {
   "cell_type": "markdown",
   "metadata": {},
   "source": [
    "### 1.4 Shuffle data"
   ]
  },
  {
   "cell_type": "code",
   "execution_count": 7,
   "metadata": {},
   "outputs": [],
   "source": [
    "df_user_rating = df_user_rating.sample(frac=1).reset_index(drop=True)"
   ]
  },
  {
   "cell_type": "markdown",
   "metadata": {},
   "source": [
    "### 1.5 Get a dictionary that will allow look-up of the genre assignments for a given movie, which will allow us to add genre features to our data, which is explained in 1.7"
   ]
  },
  {
   "cell_type": "code",
   "execution_count": 5,
   "metadata": {},
   "outputs": [],
   "source": [
    "from collections import defaultdict, Counter\n",
    "\n",
    "movie_id_to_genre_ids_dict = defaultdict(list)\n",
    "\n",
    "for index, row in df_movie_genre.iterrows():\n",
    "    movie_id_to_genre_ids_dict[row[\"movieid\"]].append(row[\"genreid\"])\n",
    "    \n",
    "movie_id_to_genre_ids_counter_dict = {}\n",
    "\n",
    "for key, value in movie_id_to_genre_ids_dict.items():\n",
    "    movie_id_to_genre_ids_counter_dict[key] = Counter(value)\n",
    "    "
   ]
  },
  {
   "cell_type": "code",
   "execution_count": 6,
   "metadata": {},
   "outputs": [],
   "source": [
    "user_ids = sorted(list(set(df_user_rating[\"userid\"])))\n",
    "movie_ids = sorted(list(set(df_user_rating[\"movieid\"])))\n",
    "tag_ids = sorted(list(set(df_movie_tag[\"tagid\"])))\n",
    "genre_ids = sorted(list(set(df_movie_genre[\"genreid\"])))\n",
    "\n",
    "num_users = len(user_ids)\n",
    "num_movies = len(movie_ids)\n",
    "num_tags = len(tag_ids)\n",
    "num_genres = len(genre_ids)\n",
    "num_ratings = len(df_user_rating)"
   ]
  },
  {
   "cell_type": "markdown",
   "metadata": {},
   "source": [
    "### 1.6 We notice that the movie ID numbers in the user ratings dataframe have gaps, such that the max number is not the same as the number of distinct IDs. To simplify the one-hot encoding of movies using movie ID, we transform movie IDs such that this previous condition holds."
   ]
  },
  {
   "cell_type": "code",
   "execution_count": 12,
   "metadata": {},
   "outputs": [],
   "source": [
    "movie_id_to_proper_index_dict = {movie_id: i+1 for i, movie_id in enumerate(sorted(np.unique(df_user_rating[\"movieid\"]))) } "
   ]
  },
  {
   "cell_type": "markdown",
   "metadata": {},
   "source": [
    "### 1.7 We progressively build the sparse matrix that will be used to train the factorization machines algorithm. \n",
    "\n",
    "#### For each row of X, from left to right we add: \n",
    "#### (1) a one-hot encoding of the user\n",
    "#### (2) a one-hot encoding of the movie\n",
    "#### (3) the genre features for the movie, where the values of each genre feature is equal to the number of times the genre was assigned to that movie divided by the number of genre assignments to that movie. \n",
    "\n",
    "#### Note: the genre features sum to one. This scheme (3) was inspired by a similar one in the original paper: https://www.csie.ntu.edu.tw/~b97053/paper/Rendle2010FM.pdf\n",
    "\n",
    "#### Y is the labels vector, where 1 means \"recommended\" and 0 means \"not recommended\". The intuition here is that a rating that is higher than the mean rating should be better, and one lower should be worse. "
   ]
  },
  {
   "cell_type": "code",
   "execution_count": 13,
   "metadata": {},
   "outputs": [],
   "source": [
    "from scipy.sparse import lil_matrix\n",
    "\n",
    "def get_X_Y(df, X, Y):\n",
    "    for index, row in df.iterrows():\n",
    "        X[index, int(row[\"userid\"]) - 1] = 1 # user information\n",
    "        X[index, num_users + int(movie_id_to_proper_index_dict[row[\"movieid\"]]) - 1] = 1 # movie information\n",
    "\n",
    "        # movie genre features\n",
    "        if movie_id_to_genre_ids_counter_dict.get(int(row[\"movieid\"]), False):\n",
    "            genre_ids_counter = movie_id_to_genre_ids_counter_dict[int(row[\"movieid\"])]\n",
    "            num_genres_for_movie = sum(genre_ids_counter.values())\n",
    "            for genre_id, count in genre_ids_counter.items():\n",
    "                X[index, num_users + num_movies + int(genre_id) - 1] = float(count / num_genres_for_movie)\n",
    "\n",
    "        # label\n",
    "        if row[\"rating_normalized\"] >= 0.0:\n",
    "            Y.append(1)\n",
    "        else:\n",
    "            Y.append(0)\n",
    "    \n",
    "    Y = np.array(Y).astype('float32')\n",
    "        \n",
    "    return X, Y\n",
    "\n",
    "def get_dataset(validation_fraction=0.15, test_fraction=0.15):\n",
    "    m_validation = int(num_ratings*validation_fraction)\n",
    "    m_test = int(num_ratings*test_fraction)\n",
    "    m_train = num_ratings - m_validation - m_test\n",
    "    n = num_users + num_movies + num_genres\n",
    "    \n",
    "    df_train = df_user_rating[:m_train].reset_index()\n",
    "    df_validation = df_user_rating[m_train:m_train+m_validation].reset_index()\n",
    "    df_test = df_user_rating[m_train+m_validation:].reset_index()\n",
    "    \n",
    "    X_train = lil_matrix((m_train, n)).astype('float32') # one-hot encoded sparse matrix\n",
    "    X_validation = lil_matrix((m_validation, n)).astype('float32')\n",
    "    X_test = lil_matrix((m_test, n)).astype('float32')\n",
    "\n",
    "    Y_train = [] # labels vector\n",
    "    Y_validation = []\n",
    "    Y_test = []\n",
    "    \n",
    "    X_train, Y_train = get_X_Y(df_train, X_train, Y_train)\n",
    "    X_validation, Y_validation = get_X_Y(df_validation, X_validation, Y_validation)\n",
    "    X_test, Y_test = get_X_Y(df_test, X_test, Y_test)\n",
    "    \n",
    "    return X_train, X_validation, X_test, Y_train, Y_validation, Y_test"
   ]
  },
  {
   "cell_type": "markdown",
   "metadata": {},
   "source": [
    "#### We obtain a split dataset of train data (70%), validation data (15%), and test data (15%)."
   ]
  },
  {
   "cell_type": "code",
   "execution_count": 14,
   "metadata": {},
   "outputs": [],
   "source": [
    "X_train, X_validation, X_test, Y_train, Y_validation, Y_test = get_dataset()"
   ]
  },
  {
   "cell_type": "markdown",
   "metadata": {},
   "source": [
    "### 1.8 Save dataset to S3 in necessary format for training SageMaker factorization machines algorithm (protobuf)"
   ]
  },
  {
   "cell_type": "code",
   "execution_count": 15,
   "metadata": {},
   "outputs": [
    {
     "name": "stdout",
     "output_type": "stream",
     "text": [
      "Uploaded train data to: s3://movie-recommendation-engine-project/fm_input/train.protobuf\n",
      "Uploaded validation data to: s3://movie-recommendation-engine-project/fm_input/validation.protobuf\n",
      "Uploaded train data to: s3://movie-recommendation-engine-project/fm_input/test.protobuf\n"
     ]
    }
   ],
   "source": [
    "import sagemaker.amazon.common as smac\n",
    "import io\n",
    "\n",
    "prefix = \"fm_input\"\n",
    "\n",
    "key_train = f\"{prefix}/train.protobuf\"\n",
    "key_validation = f\"{prefix}/validation.protobuf\"\n",
    "key_test = f\"{prefix}/test.protobuf\"\n",
    "\n",
    "def write_to_s3_as_protobuf(X, Y, bucket, key):\n",
    "    buffer = io.BytesIO()\n",
    "    smac.write_spmatrix_to_sparse_tensor(buffer, X, Y)\n",
    "    buffer.seek(0)\n",
    "    boto3.resource(\"s3\").Bucket(bucket).Object(key).upload_fileobj(buffer)\n",
    "    return f\"s3://{bucket}/{key}\"\n",
    "    \n",
    "train_data = write_to_s3_as_protobuf(X_train, Y_train, BUCKET, key_train)\n",
    "print(f\"Uploaded train data to: {train_data}\")\n",
    "\n",
    "validation_data  = write_to_s3_as_protobuf(X_validation, Y_validation, BUCKET, key_validation)    \n",
    "print(f\"Uploaded validation data to: {validation_data}\")\n",
    "\n",
    "test_data  = write_to_s3_as_protobuf(X_test, Y_test, BUCKET, key_test)    \n",
    "print(f\"Uploaded train data to: {test_data}\")"
   ]
  },
  {
   "cell_type": "markdown",
   "metadata": {},
   "source": [
    "## 2. Training + Model Deployment "
   ]
  },
  {
   "cell_type": "markdown",
   "metadata": {},
   "source": [
    "### 2.1 Get factorization machines algorithm container from corresponding image"
   ]
  },
  {
   "cell_type": "code",
   "execution_count": 16,
   "metadata": {},
   "outputs": [
    {
     "name": "stderr",
     "output_type": "stream",
     "text": [
      "The method get_image_uri has been renamed in sagemaker>=2.\n",
      "See: https://sagemaker.readthedocs.io/en/stable/v2.html for details.\n",
      "Defaulting to the only supported framework/algorithm version: 1. Ignoring framework/algorithm version: 1.\n"
     ]
    }
   ],
   "source": [
    "from sagemaker.amazon.amazon_estimator import get_image_uri\n",
    "\n",
    "container = get_image_uri(boto3.Session().region_name, 'factorization-machines')"
   ]
  },
  {
   "cell_type": "markdown",
   "metadata": {},
   "source": [
    "### 2.2 Train model + Hyperparameter tuning\n",
    "\n",
    "#### We tune the hyperparameters of minibatch size and epochs using logarithmic scales, using Bayesian search.\n",
    "\n",
    "#### We use validation data for validation"
   ]
  },
  {
   "cell_type": "code",
   "execution_count": 24,
   "metadata": {},
   "outputs": [
    {
     "name": "stderr",
     "output_type": "stream",
     "text": [
      "train_instance_count has been renamed in sagemaker>=2.\n",
      "See: https://sagemaker.readthedocs.io/en/stable/v2.html for details.\n",
      "train_instance_type has been renamed in sagemaker>=2.\n",
      "See: https://sagemaker.readthedocs.io/en/stable/v2.html for details.\n"
     ]
    },
    {
     "name": "stdout",
     "output_type": "stream",
     "text": [
      ".....................................................................................................................................................................................................................................................................................................................................................................................................................................................................................................................................................................................................................................................................................................................................................................................................................................................................................................................................____s"
     ]
    },
    {
     "name": "stderr",
     "output_type": "stream",
     "text": [
      "Job ended with status 'Stopped' rather than 'Completed'. This could mean the job timed out or stopped early for some other reason: Consider checking whether it completed as you expect.\n"
     ]
    },
    {
     "name": "stdout",
     "output_type": "stream",
     "text": [
      "\n"
     ]
    }
   ],
   "source": [
    "import sagemaker\n",
    "from sagemaker.tuner import IntegerParameter, CategoricalParameter, ContinuousParameter, HyperparameterTuner\n",
    "\n",
    "sess = sagemaker.Session()\n",
    "\n",
    "role = sagemaker.get_execution_role()\n",
    "\n",
    "output_path = f\"s3://{BUCKET}/fm_output\"\n",
    "\n",
    "feature_dim = num_users + num_movies + num_genres\n",
    "\n",
    "fm = sagemaker.estimator.Estimator(container,\n",
    "                                   role, \n",
    "                                   train_instance_count=1, \n",
    "                                   train_instance_type='ml.c5.xlarge',\n",
    "                                   output_path=output_path,\n",
    "                                   sagemaker_session=sess)\n",
    "\n",
    "fm.set_hyperparameters(feature_dim=feature_dim,\n",
    "                       num_factors=128,\n",
    "                       predictor_type='binary_classifier')\n",
    "\n",
    "\n",
    "hyperparameter_ranges = {\n",
    "    'mini_batch_size': IntegerParameter(1, 2048, scaling_type=\"Logarithmic\"),\n",
    "    'epochs': IntegerParameter(1, 100, scaling_type=\"Logarithmic\")\n",
    "}\n",
    "tuner = HyperparameterTuner(\n",
    "    fm,\n",
    "    objective_metric_name='test:binary_classification_accuracy',\n",
    "    objective_type='Maximize',\n",
    "    hyperparameter_ranges=hyperparameter_ranges,\n",
    "    max_jobs=40,\n",
    "    max_parallel_jobs=10,\n",
    "    strategy='Bayesian'\n",
    ")\n",
    "\n",
    "tuner.fit({'train': train_data, 'test': validation_data})"
   ]
  },
  {
   "cell_type": "markdown",
   "metadata": {},
   "source": [
    "### 2.3 Visualize hyperparameter tuning job results"
   ]
  },
  {
   "cell_type": "code",
   "execution_count": 26,
   "metadata": {},
   "outputs": [
    {
     "data": {
      "text/plain": [
       "<matplotlib.axes._subplots.AxesSubplot at 0x7efd8b05c3d0>"
      ]
     },
     "execution_count": 26,
     "metadata": {},
     "output_type": "execute_result"
    },
    {
     "data": {
      "image/png": "[encoded data removed]",
      "text/plain": [
       "<Figure size 864x576 with 1 Axes>"
      ]
     },
     "metadata": {},
     "output_type": "display_data"
    }
   ],
   "source": [
    "import seaborn as sns\n",
    "import matplotlib.pyplot as plt\n",
    "\n",
    "sns.set(rc={'figure.figsize':(12,8)})\n",
    "\n",
    "df_tuner = sagemaker.HyperparameterTuningJobAnalytics(tuner.latest_tuning_job.job_name).dataframe()\n",
    "df_tuner[\"point_size\"] = pd.Series([1.0 for i in range(len(df_tuner))])\n",
    "sns.scatterplot(data=df_tuner, x=\"mini_batch_size\", y=\"epochs\", hue=\"FinalObjectiveValue\", palette=\"vlag\", alpha=0.8, size=\"point_size\", sizes=(200,200), edgeColor=\"Black\")\n"
   ]
  },
  {
   "cell_type": "markdown",
   "metadata": {},
   "source": [
    "### 2.4 Deploy best model from hyperparameter tuning job to start making predictions"
   ]
  },
  {
   "cell_type": "code",
   "execution_count": 27,
   "metadata": {},
   "outputs": [
    {
     "name": "stdout",
     "output_type": "stream",
     "text": [
      "\n",
      "2021-01-23 03:14:10 Starting - Preparing the instances for training\n",
      "2021-01-23 03:14:10 Downloading - Downloading input data\n",
      "2021-01-23 03:14:10 Training - Training image download completed. Training in progress.\n",
      "2021-01-23 03:14:10 Uploading - Uploading generated training model\n",
      "2021-01-23 03:14:10 Completed - Training job completed\n",
      "-------------!"
     ]
    }
   ],
   "source": [
    "import json\n",
    "from sagemaker.deserializers import JSONDeserializer\n",
    "from sagemaker.serializers import JSONSerializer\n",
    "\n",
    "class FMSerializer(JSONSerializer):\n",
    "    def serialize(self, data):\n",
    "        js = {'instances': []}\n",
    "        for row in data:\n",
    "              js['instances'].append({'features': row.tolist()})\n",
    "        return json.dumps(js)\n",
    "\n",
    "predictor = tuner.deploy(\n",
    "    initial_instance_count=1,\n",
    "    instance_type='ml.c5.xlarge',\n",
    "    serializer=FMSerializer(),\n",
    "    deserializer= JSONDeserializer()\n",
    ")\n"
   ]
  },
  {
   "cell_type": "markdown",
   "metadata": {},
   "source": [
    "## 3. Model Evaluation"
   ]
  },
  {
   "cell_type": "markdown",
   "metadata": {},
   "source": [
    "### 3.1 Compare a random prediction with corresponding actual value"
   ]
  },
  {
   "cell_type": "code",
   "execution_count": 35,
   "metadata": {},
   "outputs": [
    {
     "name": "stdout",
     "output_type": "stream",
     "text": [
      "Predicted: 1.0\n",
      "Actual: 1.0\n"
     ]
    }
   ],
   "source": [
    "i = 10000\n",
    "\n",
    "prediction = predictor.predict(X_test[i, :].toarray())['predictions'][0]['predicted_label']\n",
    "\n",
    "print(f\"Predicted: {prediction}\")\n",
    "print(f\"Actual: {Y_test[i]}\")\n"
   ]
  },
  {
   "cell_type": "markdown",
   "metadata": {},
   "source": [
    "### 3.2 Get predictions for entire test set"
   ]
  },
  {
   "cell_type": "code",
   "execution_count": 41,
   "metadata": {},
   "outputs": [],
   "source": [
    "Y_predicted = []\n",
    "num_test = X_test.shape[0]\n",
    "for i in range(num_test):\n",
    "    for array in np.array_split(X_test[i].toarray(), 1):\n",
    "        result = predictor.predict(array)\n",
    "        Y_predicted += [r[\"predicted_label\"] for r in result['predictions']]\n",
    "\n",
    "Y_predicted = np.array(Y_predicted)"
   ]
  },
  {
   "cell_type": "markdown",
   "metadata": {},
   "source": [
    "### 3.3 Compute evaluation metrics for test set predictions"
   ]
  },
  {
   "cell_type": "code",
   "execution_count": 46,
   "metadata": {},
   "outputs": [
    {
     "data": {
      "text/plain": [
       "0.7112066115702479"
      ]
     },
     "execution_count": 46,
     "metadata": {},
     "output_type": "execute_result"
    }
   ],
   "source": [
    "from sklearn.metrics import accuracy_score, confusion_matrix\n",
    "\n",
    "accuracy_score(Y_test, Y_predicted)"
   ]
  },
  {
   "cell_type": "code",
   "execution_count": 48,
   "metadata": {},
   "outputs": [
    {
     "data": {
      "text/plain": [
       "array([[5790, 1937],\n",
       "       [2431, 4967]])"
      ]
     },
     "execution_count": 48,
     "metadata": {},
     "output_type": "execute_result"
    }
   ],
   "source": [
    "confusion_matrix(Y_test, Y_predicted)"
   ]
  },
  {
   "cell_type": "code",
   "execution_count": null,
   "metadata": {},
   "outputs": [],
   "source": []
  }
 ],
 "metadata": {
  "instance_type": "ml.t3.medium",
  "kernelspec": {
   "display_name": "Python 3 (Data Science)",
   "language": "python",
   "name": "python3__SAGEMAKER_INTERNAL__arn:aws:sagemaker:us-east-2:429704687514:image/datascience-1.0"
  },
  "language_info": {
   "codemirror_mode": {
    "name": "ipython",
    "version": 3
   },
   "file_extension": ".py",
   "mimetype": "text/x-python",
   "name": "python",
   "nbconvert_exporter": "python",
   "pygments_lexer": "ipython3",
   "version": "3.7.6"
  }
 },
 "nbformat": 4,
 "nbformat_minor": 4
}
